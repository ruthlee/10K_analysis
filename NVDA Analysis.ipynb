{
 "cells": [
  {
   "cell_type": "code",
   "execution_count": 63,
   "metadata": {
    "collapsed": true
   },
   "outputs": [],
   "source": [
    "import re\n",
    "import os\n",
    "import requests\n",
    "import pandas as pd\n",
    "import numpy as np\n",
    "from tqdm import tqdm \n",
    "import matplotlib.pyplot as plt\n",
    "from matplotlib.backends.backend_pdf import PdfPages"
   ]
  },
  {
   "cell_type": "markdown",
   "metadata": {},
   "source": [
    "# NVDA Analysis of Similarity Scores\n",
    "Using the scraped data, we want to do a preliminary analysis of the NVDA 10K and 10Q similarity scores (basically meaning we just want to graph them). We choose NVDA in particular because my dad is interested in the stock. Afterwards we'll try to implement a function that automates the graph-making process and stores the result as a pdf file. "
   ]
  },
  {
   "cell_type": "code",
   "execution_count": 2,
   "metadata": {
    "collapsed": true
   },
   "outputs": [],
   "source": [
    "# helpful tool to convert between ticker to CIV\n",
    "def TickertoCIK(tickers):\n",
    "    url = 'http://www.sec.gov/cgi-bin/browse-edgar?CIK={}&Find=Search&owner=exclude&action=getcompany'\n",
    "    cik_re = re.compile(r'.*CIK=(\\d{10}).*')\n",
    "\n",
    "    cik_dict = {}\n",
    "    for ticker in tqdm(tickers): # Use tqdm lib for progress bar\n",
    "        results = cik_re.findall(requests.get(url.format(ticker)).text)\n",
    "        if len(results):\n",
    "            cik_dict[str(ticker).lower()] = str(results[0])\n",
    "    \n",
    "    return cik_dict"
   ]
  },
  {
   "cell_type": "code",
   "execution_count": 3,
   "metadata": {},
   "outputs": [
    {
     "name": "stderr",
     "output_type": "stream",
     "text": [
      "100%|██████████| 1/1 [00:00<00:00,  6.00it/s]\n"
     ]
    }
   ],
   "source": [
    "# we are analyzing NVDA\n",
    "cik_dict = TickertoCIK([\"nvda\"])\n",
    "cik = cik_dict['nvda']"
   ]
  },
  {
   "cell_type": "code",
   "execution_count": 4,
   "metadata": {
    "collapsed": true
   },
   "outputs": [],
   "source": [
    "# import scraped similarity data\n",
    "data = pd.read_csv(cik + '_sim_scores_full.csv')"
   ]
  },
  {
   "cell_type": "code",
   "execution_count": 5,
   "metadata": {},
   "outputs": [],
   "source": [
    "# data"
   ]
  },
  {
   "cell_type": "code",
   "execution_count": 6,
   "metadata": {
    "collapsed": true
   },
   "outputs": [],
   "source": [
    "# we need to turn this dataframe into a numpy array so that we can plot stuff. Let's clean up the data while \n",
    "# we're at it and create two numpy arrays for 10Q and 10K similarity data.\n",
    "\n",
    "def get_10K_data(data):\n",
    "    '''\n",
    "    Helper function: \n",
    "    Takes in the pandas dataframe containing all the sim scores for 10Ks and 10Qs and generates a \n",
    "    cleaned up dataframe with just 10Ks of the form: \n",
    "    \n",
    "    10Q Dates | cosine_score | jaccard_score\n",
    "    \n",
    "    '''\n",
    "    df = data.copy()\n",
    "    df = df[pd.notnull(df['10Kdates'])]\n",
    "    df.drop(['10Qdates'], 1, inplace=True)\n",
    "    df.drop(['cik'], 1, inplace=True)\n",
    "    \n",
    "    return df\n",
    "\n",
    "def get_10Q_data(data):\n",
    "    '''\n",
    "    Helper function: \n",
    "    Takes in the pandas dataframe containing all the sim scores for 10Ks and 10Qs and generates a \n",
    "    cleaned up dataframe with just 10Qs of the form: \n",
    "    \n",
    "    10Q Dates | cosine_score | jaccard_score\n",
    "    \n",
    "    '''\n",
    "    df = data.copy()\n",
    "    df = df[pd.notnull(df['10Qdates'])]\n",
    "    df.drop(['10Kdates'], 1, inplace=True)\n",
    "    df.drop(['cik'], 1, inplace=True)\n",
    "    \n",
    "    return df"
   ]
  },
  {
   "cell_type": "code",
   "execution_count": 8,
   "metadata": {},
   "outputs": [],
   "source": [
    "K_data = get_10K_data(data)\n",
    "Q_data = get_10Q_data(data)"
   ]
  },
  {
   "cell_type": "code",
   "execution_count": 55,
   "metadata": {
    "collapsed": true
   },
   "outputs": [],
   "source": [
    "# time to automate these and test before we move to making the python script. \n",
    "\n",
    "def plot(ticker, data):\n",
    "    '''\n",
    "    Inputs: \n",
    "        1. ticker: the name of the ticker which the data (#2) refers to. \n",
    "        2. data: The pandas dataframe for the ticker in #1 containing all the sim scores for 10Ks and 10Qs\n",
    "    \n",
    "    This function cleans the similarity score data up into two dataframes (Q_data, K_data) of dates and sim scores \n",
    "    for 10Ks, 10Qs, plots a single figure containing two subplots plotting similarity scores for the 10Ks and 10Qs, \n",
    "    and saves the file as a pdf in the current directory. \n",
    "    \n",
    "    '''\n",
    "    K_data = get_10K_data(data)\n",
    "    Q_data = get_10Q_data(data)\n",
    "    \n",
    "    K_array = K_data.values\n",
    "    Q_array = Q_data.values\n",
    "\n",
    "    with PdfPages(ticker + '.pdf') as pdf:\n",
    "        fig = plt.figure(figsize = (15, 12))\n",
    "\n",
    "        axes = fig.add_subplot(2, 1, 1)\n",
    "        axes.plot(K_array[:, 0], K_array[:, 1], '-r', label = \"Cosine Score\")\n",
    "        axes.plot(K_array[:, 0], K_array[:, 2], '-b', label = \"Jaccard Score\")\n",
    "        axes.legend()\n",
    "        axes.set_title(ticker.upper() + ' 10K Similarity Scores')\n",
    "        axes.set_xlabel('Date of Filing')\n",
    "        axes.set_ylabel(\"Similarity Score Values\")\n",
    "        plt.xticks(rotation=70)\n",
    "\n",
    "        axes = fig.add_subplot(2, 1, 2)\n",
    "        axes.plot(Q_array[:, 0], Q_array[:, 1], '-r', label = \"Cosine Score\")\n",
    "        axes.plot(Q_array[:, 0], Q_array[:, 2], '-b', label = \"Jaccard Score\")\n",
    "        axes.legend()\n",
    "        axes.set_title(ticker.upper() + ' 10Q Similarity Scores')\n",
    "        axes.set_xlabel('Date of Filing')\n",
    "        axes.set_ylabel(\"Similarity Score Values\")\n",
    "        plt.xticks(rotation=70)\n",
    "\n",
    "        plt.subplots_adjust(hspace = 0.6)\n",
    "        pdf.savefig()"
   ]
  },
  {
   "cell_type": "code",
   "execution_count": 60,
   "metadata": {},
   "outputs": [],
   "source": [
    "plot('nvda', data)\n",
    "\n",
    "# if you run it again it automatically overwrites the existing file with the same name. "
   ]
  },
  {
   "cell_type": "code",
   "execution_count": 66,
   "metadata": {},
   "outputs": [
    {
     "data": {
      "text/plain": [
       "'/Users/Kyelee/MyProjects/10K_NLP'"
      ]
     },
     "execution_count": 66,
     "metadata": {},
     "output_type": "execute_result"
    }
   ],
   "source": [
    "import os\n",
    "cwd = os.getcwd()\n",
    "cwd"
   ]
  },
  {
   "cell_type": "code",
   "execution_count": 67,
   "metadata": {},
   "outputs": [
    {
     "ename": "NameError",
     "evalue": "name 'tickers' is not defined",
     "output_type": "error",
     "traceback": [
      "\u001b[0;31m---------------------------------------------------------------------------\u001b[0m",
      "\u001b[0;31mNameError\u001b[0m                                 Traceback (most recent call last)",
      "\u001b[0;32m<ipython-input-67-9be85d6c53ff>\u001b[0m in \u001b[0;36m<module>\u001b[0;34m()\u001b[0m\n\u001b[0;32m----> 1\u001b[0;31m \u001b[0;32mfor\u001b[0m \u001b[0mi\u001b[0m \u001b[0;32min\u001b[0m \u001b[0mrange\u001b[0m\u001b[0;34m(\u001b[0m\u001b[0mtickers\u001b[0m\u001b[0;34m)\u001b[0m\u001b[0;34m:\u001b[0m\u001b[0;34m\u001b[0m\u001b[0m\n\u001b[0m\u001b[1;32m      2\u001b[0m     \u001b[0mcik_dict\u001b[0m \u001b[0;34m=\u001b[0m \u001b[0mTickertoCIK\u001b[0m\u001b[0;34m(\u001b[0m\u001b[0;34m[\u001b[0m\u001b[0mtickers\u001b[0m\u001b[0;34m[\u001b[0m\u001b[0mi\u001b[0m\u001b[0;34m]\u001b[0m\u001b[0;34m]\u001b[0m\u001b[0;34m)\u001b[0m\u001b[0;34m\u001b[0m\u001b[0m\n\u001b[1;32m      3\u001b[0m     \u001b[0mcik\u001b[0m \u001b[0;34m=\u001b[0m \u001b[0mcik_dict\u001b[0m\u001b[0;34m[\u001b[0m\u001b[0mtickers\u001b[0m\u001b[0;34m[\u001b[0m\u001b[0mi\u001b[0m\u001b[0;34m]\u001b[0m\u001b[0;34m]\u001b[0m\u001b[0;34m\u001b[0m\u001b[0m\n\u001b[1;32m      4\u001b[0m \u001b[0;34m\u001b[0m\u001b[0m\n\u001b[1;32m      5\u001b[0m     \u001b[0mdata\u001b[0m \u001b[0;34m=\u001b[0m \u001b[0mpd\u001b[0m\u001b[0;34m.\u001b[0m\u001b[0mread_csv\u001b[0m\u001b[0;34m(\u001b[0m\u001b[0mcik\u001b[0m \u001b[0;34m+\u001b[0m \u001b[0;34m'_sim_scores_full.csv'\u001b[0m\u001b[0;34m)\u001b[0m\u001b[0;34m\u001b[0m\u001b[0m\n",
      "\u001b[0;31mNameError\u001b[0m: name 'tickers' is not defined"
     ]
    }
   ],
   "source": [
    "for i in range(len(tickers)):\n",
    "    cik_dict = TickertoCIK([tickers[i]])\n",
    "    cik = cik_dict[tickers[i]]\n",
    "    \n",
    "    data = pd.read_csv(cik + '_sim_scores_full.csv')\n",
    "    \n",
    "    plot(tickers[i], data)"
   ]
  },
  {
   "cell_type": "code",
   "execution_count": null,
   "metadata": {
    "collapsed": true
   },
   "outputs": [],
   "source": []
  }
 ],
 "metadata": {
  "kernelspec": {
   "display_name": "Python 3",
   "language": "python",
   "name": "python3"
  },
  "language_info": {
   "codemirror_mode": {
    "name": "ipython",
    "version": 3
   },
   "file_extension": ".py",
   "mimetype": "text/x-python",
   "name": "python",
   "nbconvert_exporter": "python",
   "pygments_lexer": "ipython3",
   "version": "3.6.3"
  }
 },
 "nbformat": 4,
 "nbformat_minor": 2
}
